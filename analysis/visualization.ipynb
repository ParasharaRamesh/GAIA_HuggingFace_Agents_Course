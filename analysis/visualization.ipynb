{
 "cells": [
  {
   "cell_type": "code",
   "id": "initial_id",
   "metadata": {
    "collapsed": true,
    "ExecuteTime": {
     "end_time": "2025-06-17T12:06:06.461147Z",
     "start_time": "2025-06-17T12:06:03.394619Z"
    }
   },
   "source": [
    "from IPython.display import Image, display\n",
    "from agents.graph import app\n",
    "\n",
    "display(Image(app.get_graph().draw_mermaid_png()))"
   ],
   "outputs": [
    {
     "name": "stderr",
     "output_type": "stream",
     "text": [
      "C:\\Users\\paras\\anaconda3\\envs\\gaia\\Lib\\site-packages\\requests\\__init__.py:86: RequestsDependencyWarning: Unable to find acceptable character detection dependency (chardet or charset_normalizer).\n",
      "  warnings.warn(\n",
      "USER_AGENT environment variable not set, consider setting it to identify your requests.\n"
     ]
    },
    {
     "name": "stdout",
     "output_type": "stream",
     "text": [
      "DummyLLM: Initialized (placeholder)\n",
      "Planner: Initialized (empty logic)\n"
     ]
    },
    {
     "ename": "AttributeError",
     "evalue": "'DummyLLM' object has no attribute 'bind'",
     "output_type": "error",
     "traceback": [
      "\u001B[31m---------------------------------------------------------------------------\u001B[39m",
      "\u001B[31mAttributeError\u001B[39m                            Traceback (most recent call last)",
      "\u001B[36mCell\u001B[39m\u001B[36m \u001B[39m\u001B[32mIn[1]\u001B[39m\u001B[32m, line 2\u001B[39m\n\u001B[32m      1\u001B[39m \u001B[38;5;28;01mfrom\u001B[39;00m\u001B[38;5;250m \u001B[39m\u001B[34;01mIPython\u001B[39;00m\u001B[34;01m.\u001B[39;00m\u001B[34;01mdisplay\u001B[39;00m\u001B[38;5;250m \u001B[39m\u001B[38;5;28;01mimport\u001B[39;00m Image, display\n\u001B[32m----> \u001B[39m\u001B[32m2\u001B[39m \u001B[38;5;28;01mfrom\u001B[39;00m\u001B[38;5;250m \u001B[39m\u001B[34;01magents\u001B[39;00m\u001B[34;01m.\u001B[39;00m\u001B[34;01mgraph\u001B[39;00m\u001B[38;5;250m \u001B[39m\u001B[38;5;28;01mimport\u001B[39;00m app\n\u001B[32m      4\u001B[39m display(Image(app.get_graph().draw_mermaid_png()))\n",
      "\u001B[36mFile \u001B[39m\u001B[32mC:\\Parashara\\Projects\\Learning\\GAIA_HF_Agents_Course_Final_Assignment\\agents\\graph.py:60\u001B[39m\n\u001B[32m     58\u001B[39m final_agent = FinalAgent(llm=dummy_llm_instance)\n\u001B[32m     59\u001B[39m visual_agent = VisualAgent(llm=dummy_llm_instance)\n\u001B[32m---> \u001B[39m\u001B[32m60\u001B[39m code_agent = CodeAgent(llm=dummy_llm_instance)\n\u001B[32m     61\u001B[39m audio_agent = AudioAgent(llm=dummy_llm_instance)\n\u001B[32m     62\u001B[39m researcher_agent = ResearcherAgent(llm=dummy_llm_instance)\n",
      "\u001B[36mFile \u001B[39m\u001B[32mC:\\Parashara\\Projects\\Learning\\GAIA_HF_Agents_Course_Final_Assignment\\agents\\code_agent.py:48\u001B[39m, in \u001B[36mCodeAgent.__init__\u001B[39m\u001B[34m(self, llm)\u001B[39m\n\u001B[32m     45\u001B[39m \u001B[38;5;28mself\u001B[39m.code_react_prompt_path = os.path.join(prompts_dir, \u001B[33m'\u001B[39m\u001B[33mcode_react_prompt.txt\u001B[39m\u001B[33m'\u001B[39m)\n\u001B[32m     47\u001B[39m \u001B[38;5;66;03m# Initialize the LangChain AgentExecutor\u001B[39;00m\n\u001B[32m---> \u001B[39m\u001B[32m48\u001B[39m \u001B[38;5;28mself\u001B[39m.agent_executor = \u001B[38;5;28mself\u001B[39m._initialize_agent_executor()\n",
      "\u001B[36mFile \u001B[39m\u001B[32mC:\\Parashara\\Projects\\Learning\\GAIA_HF_Agents_Course_Final_Assignment\\agents\\code_agent.py:58\u001B[39m, in \u001B[36mCodeAgent._initialize_agent_executor\u001B[39m\u001B[34m(self)\u001B[39m\n\u001B[32m     55\u001B[39m     prompt_template_str = f.read()\n\u001B[32m     57\u001B[39m prompt = ChatPromptTemplate.from_template(prompt_template_str)\n\u001B[32m---> \u001B[39m\u001B[32m58\u001B[39m agent = create_react_agent(\u001B[38;5;28mself\u001B[39m.llm, \u001B[38;5;28mself\u001B[39m.tools, prompt)\n\u001B[32m     60\u001B[39m \u001B[38;5;28;01mreturn\u001B[39;00m AgentExecutor(\n\u001B[32m     61\u001B[39m     agent=agent,\n\u001B[32m     62\u001B[39m     tools=\u001B[38;5;28mself\u001B[39m.tools,\n\u001B[32m   (...)\u001B[39m\u001B[32m     66\u001B[39m     max_execution_time=\u001B[32m300\u001B[39m \u001B[38;5;66;03m# Max time for the agent to run in seconds\u001B[39;00m\n\u001B[32m     67\u001B[39m )\n",
      "\u001B[36mFile \u001B[39m\u001B[32m~\\anaconda3\\envs\\gaia\\Lib\\site-packages\\langchain\\agents\\react\\agent.py:132\u001B[39m, in \u001B[36mcreate_react_agent\u001B[39m\u001B[34m(llm, tools, prompt, output_parser, tools_renderer, stop_sequence)\u001B[39m\n\u001B[32m    130\u001B[39m \u001B[38;5;28;01mif\u001B[39;00m stop_sequence:\n\u001B[32m    131\u001B[39m     stop = [\u001B[33m\"\u001B[39m\u001B[38;5;130;01m\\n\u001B[39;00m\u001B[33mObservation\u001B[39m\u001B[33m\"\u001B[39m] \u001B[38;5;28;01mif\u001B[39;00m stop_sequence \u001B[38;5;129;01mis\u001B[39;00m \u001B[38;5;28;01mTrue\u001B[39;00m \u001B[38;5;28;01melse\u001B[39;00m stop_sequence\n\u001B[32m--> \u001B[39m\u001B[32m132\u001B[39m     llm_with_stop = llm.bind(stop=stop)\n\u001B[32m    133\u001B[39m \u001B[38;5;28;01melse\u001B[39;00m:\n\u001B[32m    134\u001B[39m     llm_with_stop = llm\n",
      "\u001B[31mAttributeError\u001B[39m: 'DummyLLM' object has no attribute 'bind'"
     ]
    }
   ],
   "execution_count": 1
  },
  {
   "metadata": {},
   "cell_type": "code",
   "outputs": [],
   "execution_count": null,
   "source": "",
   "id": "757ed8f00531e7e2"
  }
 ],
 "metadata": {
  "kernelspec": {
   "display_name": "Python 3",
   "language": "python",
   "name": "python3"
  },
  "language_info": {
   "codemirror_mode": {
    "name": "ipython",
    "version": 2
   },
   "file_extension": ".py",
   "mimetype": "text/x-python",
   "name": "python",
   "nbconvert_exporter": "python",
   "pygments_lexer": "ipython2",
   "version": "2.7.6"
  }
 },
 "nbformat": 4,
 "nbformat_minor": 5
}
